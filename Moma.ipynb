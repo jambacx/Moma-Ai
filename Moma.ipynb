{
 "cells": [
  {
   "cell_type": "code",
   "execution_count": 3,
   "metadata": {},
   "outputs": [
    {
     "ename": "IndexError",
     "evalue": "list index out of range",
     "output_type": "error",
     "traceback": [
      "\u001b[0;31m---------------------------------------------------------------------------\u001b[0m",
      "\u001b[0;31mIndexError\u001b[0m                                Traceback (most recent call last)",
      "\u001b[1;32m/Users/jamba/Projects/Moma/Moma-Ai/Moma.ipynb Cell 1\u001b[0m line \u001b[0;36m1\n\u001b[1;32m     <a href='vscode-notebook-cell:/Users/jamba/Projects/Moma/Moma-Ai/Moma.ipynb#W0sZmlsZQ%3D%3D?line=13'>14</a>\u001b[0m model_path \u001b[39m=\u001b[39m \u001b[39m'\u001b[39m\u001b[39mcased_bert_base_pytorch\u001b[39m\u001b[39m'\u001b[39m\n\u001b[1;32m     <a href='vscode-notebook-cell:/Users/jamba/Projects/Moma/Moma-Ai/Moma.ipynb#W0sZmlsZQ%3D%3D?line=14'>15</a>\u001b[0m \u001b[39mif\u001b[39;00m \u001b[39mnot\u001b[39;00m exists(model_path):\n\u001b[0;32m---> <a href='vscode-notebook-cell:/Users/jamba/Projects/Moma/Moma-Ai/Moma.ipynb#W0sZmlsZQ%3D%3D?line=15'>16</a>\u001b[0m   download_from_google_drive(\u001b[39m'\u001b[39;49m\u001b[39m11Adpo6DorPgpE8z1lL6rvZAMHLEfnJwv\u001b[39;49m\u001b[39m'\u001b[39;49m, \u001b[39m'\u001b[39;49m\u001b[39m%s\u001b[39;49;00m\u001b[39m.zip\u001b[39;49m\u001b[39m'\u001b[39;49m \u001b[39m%\u001b[39;49m model_path)\n\u001b[1;32m     <a href='vscode-notebook-cell:/Users/jamba/Projects/Moma/Moma-Ai/Moma.ipynb#W0sZmlsZQ%3D%3D?line=16'>17</a>\u001b[0m   get_ipython()\u001b[39m.\u001b[39msystem(\u001b[39m'\u001b[39m\u001b[39munzip \u001b[39m\u001b[39m{model_path}\u001b[39;00m\u001b[39m.zip\u001b[39m\u001b[39m'\u001b[39m)\n\u001b[1;32m     <a href='vscode-notebook-cell:/Users/jamba/Projects/Moma/Moma-Ai/Moma.ipynb#W0sZmlsZQ%3D%3D?line=17'>18</a>\u001b[0m   sys\u001b[39m.\u001b[39mpath\u001b[39m.\u001b[39mappend(model_path)\n",
      "\u001b[1;32m/Users/jamba/Projects/Moma/Moma-Ai/Moma.ipynb Cell 1\u001b[0m line \u001b[0;36m1\n\u001b[1;32m      <a href='vscode-notebook-cell:/Users/jamba/Projects/Moma/Moma-Ai/Moma.ipynb#W0sZmlsZQ%3D%3D?line=7'>8</a>\u001b[0m get_ipython()\u001b[39m.\u001b[39msystem(\u001b[39m'\u001b[39m\u001b[39mcurl -c ./cookie -s -L \u001b[39m\u001b[39m\"\u001b[39m\u001b[39mhttps://drive.google.com/uc?export=download&id=\u001b[39m\u001b[39m{file_id}\u001b[39;00m\u001b[39m\"\u001b[39m\u001b[39m > /dev/null\u001b[39m\u001b[39m'\u001b[39m)\n\u001b[1;32m      <a href='vscode-notebook-cell:/Users/jamba/Projects/Moma/Moma-Ai/Moma.ipynb#W0sZmlsZQ%3D%3D?line=8'>9</a>\u001b[0m confirm_text \u001b[39m=\u001b[39m get_ipython()\u001b[39m.\u001b[39mgetoutput(\u001b[39m\"\u001b[39m\u001b[39mawk \u001b[39m\u001b[39m'\u001b[39m\u001b[39m/download/ \u001b[39m\u001b[39m{\u001b[39m\u001b[39mprint $NF}\u001b[39m\u001b[39m'\u001b[39m\u001b[39m ./cookie\u001b[39m\u001b[39m\"\u001b[39m)\n\u001b[0;32m---> <a href='vscode-notebook-cell:/Users/jamba/Projects/Moma/Moma-Ai/Moma.ipynb#W0sZmlsZQ%3D%3D?line=9'>10</a>\u001b[0m confirm_text \u001b[39m=\u001b[39m confirm_text[\u001b[39m0\u001b[39;49m]\n\u001b[1;32m     <a href='vscode-notebook-cell:/Users/jamba/Projects/Moma/Moma-Ai/Moma.ipynb#W0sZmlsZQ%3D%3D?line=10'>11</a>\u001b[0m get_ipython()\u001b[39m.\u001b[39msystem(\u001b[39m'\u001b[39m\u001b[39mcurl -Lb ./cookie \u001b[39m\u001b[39m\"\u001b[39m\u001b[39mhttps://drive.google.com/uc?export=download&confirm=\u001b[39m\u001b[39m{confirm_text}\u001b[39;00m\u001b[39m&id=\u001b[39m\u001b[39m{file_id}\u001b[39;00m\u001b[39m\"\u001b[39m\u001b[39m -o \u001b[39m\u001b[39m{file_name}\u001b[39;00m\u001b[39m'\u001b[39m)\n",
      "\u001b[0;31mIndexError\u001b[0m: list index out of range"
     ]
    }
   ],
   "source": [
    "import os\n",
    "from os.path import exists, join, basename, splitext\n",
    "import sys\n",
    "\n",
    "def download_from_google_drive(file_id, file_name):\n",
    "  # download a file from the Google Drive link\n",
    "  !rm -f ./cookie\n",
    "  !curl -c ./cookie -s -L \"https://drive.google.com/uc?export=download&id={file_id}\" > /dev/null\n",
    "  confirm_text = !awk '/download/ {print $NF}' ./cookie\n",
    "  confirm_text = confirm_text[0]\n",
    "  !curl -Lb ./cookie \"https://drive.google.com/uc?export=download&confirm={confirm_text}&id={file_id}\" -o {file_name}\n",
    "  \n",
    "# download a pre-trained model\n",
    "model_path = 'cased_bert_base_pytorch'\n",
    "if not exists(model_path):\n",
    "  download_from_google_drive('11Adpo6DorPgpE8z1lL6rvZAMHLEfnJwv', '%s.zip' % model_path)\n",
    "  !unzip {model_path}.zip\n",
    "  sys.path.append(model_path)\n",
    "  \n",
    "# we need only sentencepience and pytorch-pretrained-BERT, everything else is included in the downloaded model\n",
    "!pip install -q pytorch-pretrained-BERT sentencepiece\n",
    "\n",
    "# import needed modules\n",
    "import torch\n",
    "from tokenization_sentencepiece import FullTokenizer\n",
    "import pytorch_pretrained_bert\n",
    "from pytorch_pretrained_bert import BertModel, BertForMaskedLM, BertForNextSentencePrediction\n",
    "\n",
    "# Load pre-trained model tokenizer\n",
    "tokenizer = FullTokenizer(model_file=join(model_path, 'mn_cased.model'), vocab_file=join(model_path, 'mn_cased.vocab'), do_lower_case=False)\n",
    "# Load pre-trained model (weights)\n",
    "model = BertForMaskedLM.from_pretrained(model_path)\n",
    "model = model.eval()"
   ]
  }
 ],
 "metadata": {
  "kernelspec": {
   "display_name": "Python 3",
   "language": "python",
   "name": "python3"
  },
  "language_info": {
   "codemirror_mode": {
    "name": "ipython",
    "version": 3
   },
   "file_extension": ".py",
   "mimetype": "text/x-python",
   "name": "python",
   "nbconvert_exporter": "python",
   "pygments_lexer": "ipython3",
   "version": "3.9.6"
  },
  "orig_nbformat": 4
 },
 "nbformat": 4,
 "nbformat_minor": 2
}
